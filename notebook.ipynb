{
    "cells": [
        {
            "cell_type": "markdown",
            "metadata": {},
            "source": [
                "# Proyek Akhir: Menyelesaikan Permasalahan Perusahaan Jaya Jaya Maju"
            ]
        },
        {
            "cell_type": "markdown",
            "metadata": {},
            "source": [
                "- Nama: Agung Firmansyah\n",
                "- Email: agungfir98@gmail.com\n",
                "- Id Dicoding: agung_firmansyah98"
            ]
        },
        {
            "cell_type": "markdown",
            "metadata": {},
            "source": [
                "## Persiapan"
            ]
        },
        {
            "cell_type": "markdown",
            "metadata": {},
            "source": [
                "### Menyiapkan library yang dibutuhkan"
            ]
        },
        {
            "cell_type": "code",
            "execution_count": 18,
            "metadata": {},
            "outputs": [],
            "source": [
                "# system dependencies\n",
                "import os\n",
                "from dotenv import load_dotenv\n",
                "\n",
                "# data dependencies\n",
                "import pandas as pd\n",
                "from sqlalchemy import create_engine\n",
                "\n",
                "import matplotlib.pyplot as plt\n",
                "import seaborn as sns"
            ]
        },
        {
            "cell_type": "markdown",
            "metadata": {},
            "source": [
                "### Menyiapkan data yang akan diguankan"
            ]
        },
        {
            "cell_type": "markdown",
            "metadata": {},
            "source": [
                "## Data Understanding"
            ]
        },
        {
            "cell_type": "markdown",
            "metadata": {},
            "source": [
                "### Employee Data\n",
                "\n",
                "The data contains demographic details, work-related metrics and attrition flag.\n",
                "\n",
                "* **EmployeeId** - Employee Identifier\n",
                "* **Attrition** - Did the employee attrition? (0=no, 1=yes)\n",
                "* **Age** - Age of the employee\n",
                "* **BusinessTravel** - Travel commitments for the job\n",
                "* **DailyRate** - Daily salary\n",
                "* **Department** - Employee Department\n",
                "* **DistanceFromHome** - Distance from work to home (in km)\n",
                "* **Education** - 1-Below College, 2-College, 3-Bachelor, 4-Master,5-Doctor\n",
                "* **EducationField** - Field of Education\n",
                "* **EnvironmentSatisfaction** - 1-Low, 2-Medium, 3-High, 4-Very High\n",
                "* **Gender** - Employee's gender\n",
                "* **HourlyRate** - Hourly salary\n",
                "* **JobInvolvement** - 1-Low, 2-Medium, 3-High, 4-Very High\n",
                "* **JobLevel** - Level of job (1 to 5)\n",
                "* **JobRole** - Job Roles\n",
                "* **JobSatisfaction** - 1-Low, 2-Medium, 3-High, 4-Very High\n",
                "* **MaritalStatus** - Marital Status\n",
                "* **MonthlyIncome** - Monthly salary\n",
                "* **MonthlyRate** - Mounthly rate\n",
                "* **NumCompaniesWorked** - Number of companies worked at\n",
                "* **Over18** - Over 18 years of age?\n",
                "* **OverTime** - Overtime?\n",
                "* **PercentSalaryHike** - The percentage increase in salary last year\n",
                "* **PerformanceRating** - 1-Low, 2-Good, 3-Excellent, 4-Outstanding\n",
                "* **RelationshipSatisfaction** - 1-Low, 2-Medium, 3-High, 4-Very High\n",
                "* **StandardHours** - Standard Hours\n",
                "* **StockOptionLevel** - Stock Option Level\n",
                "* **TotalWorkingYears** - Total years worked\n",
                "* **TrainingTimesLastYear** - Number of training attended last year\n",
                "* **WorkLifeBalance** - 1-Low, 2-Good, 3-Excellent, 4-Outstanding\n",
                "* **YearsAtCompany** - Years at Company\n",
                "* **YearsInCurrentRole** - Years in the current role\n",
                "* **YearsSinceLastPromotion** - Years since the last promotion\n",
                "* **YearsWithCurrManager** - Years with the current manager\n"
            ]
        },
        {
            "cell_type": "code",
            "execution_count": 19,
            "metadata": {},
            "outputs": [
                {
                    "data": {
                        "text/html": [
                            "<div>\n",
                            "<style scoped>\n",
                            "    .dataframe tbody tr th:only-of-type {\n",
                            "        vertical-align: middle;\n",
                            "    }\n",
                            "\n",
                            "    .dataframe tbody tr th {\n",
                            "        vertical-align: top;\n",
                            "    }\n",
                            "\n",
                            "    .dataframe thead th {\n",
                            "        text-align: right;\n",
                            "    }\n",
                            "</style>\n",
                            "<table border=\"1\" class=\"dataframe\">\n",
                            "  <thead>\n",
                            "    <tr style=\"text-align: right;\">\n",
                            "      <th></th>\n",
                            "      <th>EmployeeId</th>\n",
                            "      <th>Age</th>\n",
                            "      <th>Attrition</th>\n",
                            "      <th>BusinessTravel</th>\n",
                            "      <th>DailyRate</th>\n",
                            "      <th>Department</th>\n",
                            "      <th>DistanceFromHome</th>\n",
                            "      <th>Education</th>\n",
                            "      <th>EducationField</th>\n",
                            "      <th>EmployeeCount</th>\n",
                            "      <th>...</th>\n",
                            "      <th>RelationshipSatisfaction</th>\n",
                            "      <th>StandardHours</th>\n",
                            "      <th>StockOptionLevel</th>\n",
                            "      <th>TotalWorkingYears</th>\n",
                            "      <th>TrainingTimesLastYear</th>\n",
                            "      <th>WorkLifeBalance</th>\n",
                            "      <th>YearsAtCompany</th>\n",
                            "      <th>YearsInCurrentRole</th>\n",
                            "      <th>YearsSinceLastPromotion</th>\n",
                            "      <th>YearsWithCurrManager</th>\n",
                            "    </tr>\n",
                            "  </thead>\n",
                            "  <tbody>\n",
                            "    <tr>\n",
                            "      <th>0</th>\n",
                            "      <td>1</td>\n",
                            "      <td>38</td>\n",
                            "      <td>NaN</td>\n",
                            "      <td>Travel_Frequently</td>\n",
                            "      <td>1444</td>\n",
                            "      <td>Human Resources</td>\n",
                            "      <td>1</td>\n",
                            "      <td>4</td>\n",
                            "      <td>Other</td>\n",
                            "      <td>1</td>\n",
                            "      <td>...</td>\n",
                            "      <td>2</td>\n",
                            "      <td>80</td>\n",
                            "      <td>1</td>\n",
                            "      <td>7</td>\n",
                            "      <td>2</td>\n",
                            "      <td>3</td>\n",
                            "      <td>6</td>\n",
                            "      <td>2</td>\n",
                            "      <td>1</td>\n",
                            "      <td>2</td>\n",
                            "    </tr>\n",
                            "    <tr>\n",
                            "      <th>1</th>\n",
                            "      <td>2</td>\n",
                            "      <td>37</td>\n",
                            "      <td>1.0</td>\n",
                            "      <td>Travel_Rarely</td>\n",
                            "      <td>1141</td>\n",
                            "      <td>Research &amp; Development</td>\n",
                            "      <td>11</td>\n",
                            "      <td>2</td>\n",
                            "      <td>Medical</td>\n",
                            "      <td>1</td>\n",
                            "      <td>...</td>\n",
                            "      <td>1</td>\n",
                            "      <td>80</td>\n",
                            "      <td>0</td>\n",
                            "      <td>15</td>\n",
                            "      <td>2</td>\n",
                            "      <td>1</td>\n",
                            "      <td>1</td>\n",
                            "      <td>0</td>\n",
                            "      <td>0</td>\n",
                            "      <td>0</td>\n",
                            "    </tr>\n",
                            "    <tr>\n",
                            "      <th>2</th>\n",
                            "      <td>3</td>\n",
                            "      <td>51</td>\n",
                            "      <td>1.0</td>\n",
                            "      <td>Travel_Rarely</td>\n",
                            "      <td>1323</td>\n",
                            "      <td>Research &amp; Development</td>\n",
                            "      <td>4</td>\n",
                            "      <td>4</td>\n",
                            "      <td>Life Sciences</td>\n",
                            "      <td>1</td>\n",
                            "      <td>...</td>\n",
                            "      <td>3</td>\n",
                            "      <td>80</td>\n",
                            "      <td>3</td>\n",
                            "      <td>18</td>\n",
                            "      <td>2</td>\n",
                            "      <td>4</td>\n",
                            "      <td>10</td>\n",
                            "      <td>0</td>\n",
                            "      <td>2</td>\n",
                            "      <td>7</td>\n",
                            "    </tr>\n",
                            "    <tr>\n",
                            "      <th>3</th>\n",
                            "      <td>4</td>\n",
                            "      <td>42</td>\n",
                            "      <td>0.0</td>\n",
                            "      <td>Travel_Frequently</td>\n",
                            "      <td>555</td>\n",
                            "      <td>Sales</td>\n",
                            "      <td>26</td>\n",
                            "      <td>3</td>\n",
                            "      <td>Marketing</td>\n",
                            "      <td>1</td>\n",
                            "      <td>...</td>\n",
                            "      <td>4</td>\n",
                            "      <td>80</td>\n",
                            "      <td>1</td>\n",
                            "      <td>23</td>\n",
                            "      <td>2</td>\n",
                            "      <td>4</td>\n",
                            "      <td>20</td>\n",
                            "      <td>4</td>\n",
                            "      <td>4</td>\n",
                            "      <td>8</td>\n",
                            "    </tr>\n",
                            "    <tr>\n",
                            "      <th>4</th>\n",
                            "      <td>5</td>\n",
                            "      <td>40</td>\n",
                            "      <td>NaN</td>\n",
                            "      <td>Travel_Rarely</td>\n",
                            "      <td>1194</td>\n",
                            "      <td>Research &amp; Development</td>\n",
                            "      <td>2</td>\n",
                            "      <td>4</td>\n",
                            "      <td>Medical</td>\n",
                            "      <td>1</td>\n",
                            "      <td>...</td>\n",
                            "      <td>2</td>\n",
                            "      <td>80</td>\n",
                            "      <td>3</td>\n",
                            "      <td>20</td>\n",
                            "      <td>2</td>\n",
                            "      <td>3</td>\n",
                            "      <td>5</td>\n",
                            "      <td>3</td>\n",
                            "      <td>0</td>\n",
                            "      <td>2</td>\n",
                            "    </tr>\n",
                            "  </tbody>\n",
                            "</table>\n",
                            "<p>5 rows × 35 columns</p>\n",
                            "</div>"
                        ],
                        "text/plain": [
                            "   EmployeeId  Age  Attrition     BusinessTravel  DailyRate  \\\n",
                            "0           1   38        NaN  Travel_Frequently       1444   \n",
                            "1           2   37        1.0      Travel_Rarely       1141   \n",
                            "2           3   51        1.0      Travel_Rarely       1323   \n",
                            "3           4   42        0.0  Travel_Frequently        555   \n",
                            "4           5   40        NaN      Travel_Rarely       1194   \n",
                            "\n",
                            "               Department  DistanceFromHome  Education EducationField  \\\n",
                            "0         Human Resources                 1          4          Other   \n",
                            "1  Research & Development                11          2        Medical   \n",
                            "2  Research & Development                 4          4  Life Sciences   \n",
                            "3                   Sales                26          3      Marketing   \n",
                            "4  Research & Development                 2          4        Medical   \n",
                            "\n",
                            "   EmployeeCount  ...  RelationshipSatisfaction StandardHours  \\\n",
                            "0              1  ...                         2            80   \n",
                            "1              1  ...                         1            80   \n",
                            "2              1  ...                         3            80   \n",
                            "3              1  ...                         4            80   \n",
                            "4              1  ...                         2            80   \n",
                            "\n",
                            "   StockOptionLevel  TotalWorkingYears  TrainingTimesLastYear WorkLifeBalance  \\\n",
                            "0                 1                  7                      2               3   \n",
                            "1                 0                 15                      2               1   \n",
                            "2                 3                 18                      2               4   \n",
                            "3                 1                 23                      2               4   \n",
                            "4                 3                 20                      2               3   \n",
                            "\n",
                            "   YearsAtCompany YearsInCurrentRole  YearsSinceLastPromotion  \\\n",
                            "0               6                  2                        1   \n",
                            "1               1                  0                        0   \n",
                            "2              10                  0                        2   \n",
                            "3              20                  4                        4   \n",
                            "4               5                  3                        0   \n",
                            "\n",
                            "   YearsWithCurrManager  \n",
                            "0                     2  \n",
                            "1                     0  \n",
                            "2                     7  \n",
                            "3                     8  \n",
                            "4                     2  \n",
                            "\n",
                            "[5 rows x 35 columns]"
                        ]
                    },
                    "execution_count": 19,
                    "metadata": {},
                    "output_type": "execute_result"
                }
            ],
            "source": [
                "df = pd.read_csv(\"employee-data.csv\")\n",
                "df.head()"
            ]
        },
        {
            "cell_type": "code",
            "execution_count": null,
            "metadata": {},
            "outputs": [
                {
                    "data": {
                        "text/plain": [
                            "EmployeeId                  0\n",
                            "Age                         0\n",
                            "Attrition                   0\n",
                            "BusinessTravel              0\n",
                            "DailyRate                   0\n",
                            "Department                  0\n",
                            "DistanceFromHome            0\n",
                            "Education                   0\n",
                            "EducationField              0\n",
                            "EmployeeCount               0\n",
                            "EnvironmentSatisfaction     0\n",
                            "Gender                      0\n",
                            "HourlyRate                  0\n",
                            "JobInvolvement              0\n",
                            "JobLevel                    0\n",
                            "JobRole                     0\n",
                            "JobSatisfaction             0\n",
                            "MaritalStatus               0\n",
                            "MonthlyIncome               0\n",
                            "MonthlyRate                 0\n",
                            "NumCompaniesWorked          0\n",
                            "Over18                      0\n",
                            "OverTime                    0\n",
                            "PercentSalaryHike           0\n",
                            "PerformanceRating           0\n",
                            "RelationshipSatisfaction    0\n",
                            "StandardHours               0\n",
                            "StockOptionLevel            0\n",
                            "TotalWorkingYears           0\n",
                            "TrainingTimesLastYear       0\n",
                            "WorkLifeBalance             0\n",
                            "YearsAtCompany              0\n",
                            "YearsInCurrentRole          0\n",
                            "YearsSinceLastPromotion     0\n",
                            "YearsWithCurrManager        0\n",
                            "dtype: int64"
                        ]
                    },
                    "execution_count": 21,
                    "metadata": {},
                    "output_type": "execute_result"
                }
            ],
            "source": [
                "df.dropna(inplace=True)"
            ]
        },
        {
            "cell_type": "code",
            "execution_count": 22,
            "metadata": {},
            "outputs": [],
            "source": [
                "df['Attrition'] = df['Attrition'].astype(int)"
            ]
        },
        {
            "cell_type": "code",
            "execution_count": 24,
            "metadata": {},
            "outputs": [],
            "source": [
                "columns_to_drop = [\"EmployeeId\", \"EmployeeCount\", \"StandardHours\", \"Over18\"]\n",
                "df.drop(columns=columns_to_drop, inplace=True)"
            ]
        },
        {
            "cell_type": "code",
            "execution_count": 25,
            "metadata": {},
            "outputs": [
                {
                    "name": "stdout",
                    "output_type": "stream",
                    "text": [
                        "<class 'pandas.core.frame.DataFrame'>\n",
                        "Index: 1058 entries, 1 to 1469\n",
                        "Data columns (total 31 columns):\n",
                        " #   Column                    Non-Null Count  Dtype \n",
                        "---  ------                    --------------  ----- \n",
                        " 0   Age                       1058 non-null   int64 \n",
                        " 1   Attrition                 1058 non-null   int64 \n",
                        " 2   BusinessTravel            1058 non-null   object\n",
                        " 3   DailyRate                 1058 non-null   int64 \n",
                        " 4   Department                1058 non-null   object\n",
                        " 5   DistanceFromHome          1058 non-null   int64 \n",
                        " 6   Education                 1058 non-null   int64 \n",
                        " 7   EducationField            1058 non-null   object\n",
                        " 8   EnvironmentSatisfaction   1058 non-null   int64 \n",
                        " 9   Gender                    1058 non-null   object\n",
                        " 10  HourlyRate                1058 non-null   int64 \n",
                        " 11  JobInvolvement            1058 non-null   int64 \n",
                        " 12  JobLevel                  1058 non-null   int64 \n",
                        " 13  JobRole                   1058 non-null   object\n",
                        " 14  JobSatisfaction           1058 non-null   int64 \n",
                        " 15  MaritalStatus             1058 non-null   object\n",
                        " 16  MonthlyIncome             1058 non-null   int64 \n",
                        " 17  MonthlyRate               1058 non-null   int64 \n",
                        " 18  NumCompaniesWorked        1058 non-null   int64 \n",
                        " 19  OverTime                  1058 non-null   object\n",
                        " 20  PercentSalaryHike         1058 non-null   int64 \n",
                        " 21  PerformanceRating         1058 non-null   int64 \n",
                        " 22  RelationshipSatisfaction  1058 non-null   int64 \n",
                        " 23  StockOptionLevel          1058 non-null   int64 \n",
                        " 24  TotalWorkingYears         1058 non-null   int64 \n",
                        " 25  TrainingTimesLastYear     1058 non-null   int64 \n",
                        " 26  WorkLifeBalance           1058 non-null   int64 \n",
                        " 27  YearsAtCompany            1058 non-null   int64 \n",
                        " 28  YearsInCurrentRole        1058 non-null   int64 \n",
                        " 29  YearsSinceLastPromotion   1058 non-null   int64 \n",
                        " 30  YearsWithCurrManager      1058 non-null   int64 \n",
                        "dtypes: int64(24), object(7)\n",
                        "memory usage: 264.5+ KB\n"
                    ]
                }
            ],
            "source": [
                "df.info()"
            ]
        },
        {
            "cell_type": "markdown",
            "metadata": {},
            "source": [
                "### mengekspor data ke postgresql untuk keperluan dashboard"
            ]
        },
        {
            "cell_type": "code",
            "execution_count": 26,
            "metadata": {},
            "outputs": [
                {
                    "data": {
                        "text/plain": [
                            "58"
                        ]
                    },
                    "execution_count": 26,
                    "metadata": {},
                    "output_type": "execute_result"
                }
            ],
            "source": [
                "load_dotenv(\".env\")\n",
                "\n",
                "DB_URL = os.getenv(\"DB_URL\")\n",
                "engine = create_engine(DB_URL)\n",
                "\n",
                "clean_df = df.copy()\n",
                "clean_df.to_sql(\"employees\", con=engine.connect(), if_exists=\"replace\")"
            ]
        },
        {
            "cell_type": "markdown",
            "metadata": {},
            "source": [
                "### Exploratory Data Analysis"
            ]
        },
        {
            "cell_type": "code",
            "execution_count": 28,
            "metadata": {},
            "outputs": [
                {
                    "data": {
                        "image/png": "[encoded data removed]",
                        "text/plain": [
                            "<Figure size 1200x600 with 1 Axes>"
                        ]
                    },
                    "metadata": {},
                    "output_type": "display_data"
                }
            ],
            "source": [
                "plt.figure(figsize=(12,6))\n",
                "\n",
                "sns.countplot(data=clean_df, x=\"JobRole\", hue=\"Attrition\", palette=\"viridis\")\n",
                "\n",
                "plt.xticks(rotation=45)\n",
                "plt.xlabel(\"job role\")\n",
                "plt.ylabel(\"Count\")\n",
                "plt.title(\"Attrition by job role\")\n",
                "plt.legend(title=\"Attrition\", labels=[\"Stayed (0)\", \"Left (1)\"])\n",
                "plt.show()"
            ]
        },
        {
            "cell_type": "code",
            "execution_count": 29,
            "metadata": {},
            "outputs": [
                {
                    "data": {
                        "image/png": "[encoded data removed]",
                        "text/plain": [
                            "<Figure size 1200x600 with 1 Axes>"
                        ]
                    },
                    "metadata": {},
                    "output_type": "display_data"
                }
            ],
            "source": [
                "plt.figure(figsize=(12,6))\n",
                "\n",
                "sns.countplot(data=clean_df, x=\"MaritalStatus\", hue=\"Attrition\", palette=\"viridis\")\n",
                "\n",
                "plt.xticks(rotation=45)\n",
                "plt.xlabel(\"job role\")\n",
                "plt.ylabel(\"Count\")\n",
                "plt.title(\"Attrition by marital status\")\n",
                "plt.legend(title=\"Attrition\", labels=[\"Stayed (0)\", \"Left (1)\"])\n",
                "plt.show()"
            ]
        },
        {
            "cell_type": "markdown",
            "metadata": {},
            "source": [
                "## Data Preparation / Preprocessing"
            ]
        },
        {
            "cell_type": "markdown",
            "metadata": {},
            "source": [
                "## Modeling"
            ]
        },
        {
            "cell_type": "code",
            "execution_count": null,
            "metadata": {},
            "outputs": [],
            "source": []
        },
        {
            "cell_type": "markdown",
            "metadata": {},
            "source": [
                "## Evaluation"
            ]
        },
        {
            "cell_type": "code",
            "execution_count": null,
            "metadata": {},
            "outputs": [],
            "source": []
        }
    ],
    "metadata": {
        "kernelspec": {
            "display_name": "venv",
            "language": "python",
            "name": "python3"
        },
        "language_info": {
            "codemirror_mode": {
                "name": "ipython",
                "version": 3
            },
            "file_extension": ".py",
            "mimetype": "text/x-python",
            "name": "python",
            "nbconvert_exporter": "python",
            "pygments_lexer": "ipython3",
            "version": "3.11.4"
        },
        "orig_nbformat": 4
    },
    "nbformat": 4,
    "nbformat_minor": 2
}
